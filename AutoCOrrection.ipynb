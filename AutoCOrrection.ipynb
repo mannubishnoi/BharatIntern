{
  "cells": [
    {
      "cell_type": "markdown",
      "metadata": {
        "id": "view-in-github",
        "colab_type": "text"
      },
      "source": [
        "<a href=\"https://colab.research.google.com/github/mannubishnoi/mannubishnoi/blob/main/AutoCOrrection.ipynb\" target=\"_parent\"><img src=\"https://colab.research.google.com/assets/colab-badge.svg\" alt=\"Open In Colab\"/></a>"
      ]
    },
    {
      "cell_type": "code",
      "execution_count": null,
      "metadata": {
        "id": "M6L4cClPraR6"
      },
      "outputs": [],
      "source": [
        "import nltk\n",
        "from nltk.corpus import words\n",
        "from nltk.metrics.distance import edit_distance"
      ]
    },
    {
      "cell_type": "code",
      "execution_count": null,
      "metadata": {
        "colab": {
          "base_uri": "https://localhost:8080/"
        },
        "id": "difDb0jIrfra",
        "outputId": "3a07329f-6499-4adb-852f-27e4b3511db6"
      },
      "outputs": [
        {
          "name": "stderr",
          "output_type": "stream",
          "text": [
            "[nltk_data] Downloading package words to /root/nltk_data...\n",
            "[nltk_data]   Unzipping corpora/words.zip.\n"
          ]
        },
        {
          "data": {
            "text/plain": [
              "True"
            ]
          },
          "execution_count": 2,
          "metadata": {},
          "output_type": "execute_result"
        }
      ],
      "source": [
        "nltk.download('words')"
      ]
    },
    {
      "cell_type": "code",
      "execution_count": null,
      "metadata": {
        "colab": {
          "background_save": true,
          "base_uri": "https://localhost:8080/"
        },
        "id": "mE78gMjvsCfs",
        "outputId": "3bd9dfef-f5cf-49be-ce70-344934f165c5"
      },
      "outputs": [
        {
          "name": "stdout",
          "output_type": "stream",
          "text": [
            "Input Word:  teh river gnaga is in indai\n",
            "Corrected Word:  Schizogregarinida\n",
            "Input Word:  ganag\n",
            "Corrected Word:  gang\n"
          ]
        }
      ],
      "source": [
        "english_words=set(words.words())\n",
        "def auto_correct(word):\n",
        "  word=word.lower()\n",
        "  if word in english_words:\n",
        "    return word\n",
        "  min_distance=float('inf')\n",
        "  closest_word=None\n",
        "\n",
        "  for w in english_words:\n",
        "    distance=edit_distance(word,w)\n",
        "    if distance<min_distance:\n",
        "      min_distance=distance\n",
        "      closest_word=w\n",
        "  return closest_word\n",
        "\n",
        "while True:\n",
        "  input_word=input(\"Enter a word(type 'exit' to stop): \")\n",
        "\n",
        "  if input_word.lower()=='exit':\n",
        "    break\n",
        "  correct_word=auto_correct(input_word)\n",
        "  print(\"Input Word: \",input_word)\n",
        "  print(\"Corrected Word: \",correct_word)"
      ]
    },
    {
      "cell_type": "code",
      "execution_count": null,
      "metadata": {
        "id": "YDKKb8Sltgrn"
      },
      "outputs": [],
      "source": []
    }
  ],
  "metadata": {
    "colab": {
      "provenance": [],
      "authorship_tag": "ABX9TyPM30BSKJaOpBcnPf+ohYQD",
      "include_colab_link": true
    },
    "kernelspec": {
      "display_name": "Python 3",
      "name": "python3"
    },
    "language_info": {
      "name": "python"
    }
  },
  "nbformat": 4,
  "nbformat_minor": 0
}